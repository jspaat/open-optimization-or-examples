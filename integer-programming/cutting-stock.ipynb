{
 "cells": [
  {
   "cell_type": "markdown",
   "metadata": {
    "button": false,
    "new_sheet": false,
    "run_control": {
     "read_only": false
    }
   },
   "source": [
    "# Cutting Stock Problem\n",
    "\n",
    "### General problem:\n",
    "You have an order come in for $d_i$ pipes of length $i$ for $i=1, \\dots, k$.  How can you fill the order while cutting up the fewest number of pipes?\n",
    "\n",
    "\n",
    "### Specific Example:\n",
    "A plumber stocks standard lengths of pipe, all of length 19 m. An order arrives for:\n",
    "\n",
    "- 12 lengths of 4m\n",
    "- 15 lengths of 5m\n",
    "- 22 lengths of 6m\n",
    "\n",
    "How should these lengths be cut from standard stock pipes so as to minimize\n",
    "the number of standard pipes used?\n",
    "\n"
   ]
  },
  {
   "cell_type": "code",
   "execution_count": 27,
   "metadata": {},
   "outputs": [],
   "source": [
    "# Setup Data\n",
    "L = [4,5,6] # Lengths of cuts of pipes needed\n",
    "D = [12,15,22] # Demand for lengths of pipes\n",
    "L_standard = 19 # Standard legnth of pipes that we can cut\n",
    "\n",
    "d = [4,3,3] # number of times L[i] goes in to L_standard"
   ]
  },
  {
   "cell_type": "markdown",
   "metadata": {
    "button": false,
    "new_sheet": false,
    "run_control": {
     "read_only": false
    }
   },
   "source": [
    "## First Model - Board Based\n"
   ]
  },
  {
   "cell_type": "code",
   "execution_count": 25,
   "metadata": {
    "button": false,
    "new_sheet": false,
    "run_control": {
     "read_only": false
    }
   },
   "outputs": [
    {
     "name": "stdout",
     "output_type": "stream",
     "text": [
      "Gurobi Optimizer version 9.0.3 build v9.0.3rc0 (mac64)\n",
      "Optimize a model with 63 rows, 60 columns and 180 nonzeros\n",
      "Model fingerprint: 0x87b2984c\n",
      "Variable types: 0 continuous, 60 integer (15 binary)\n",
      "Coefficient statistics:\n",
      "  Matrix range     [1e+00, 2e+01]\n",
      "  Objective range  [1e+00, 1e+00]\n",
      "  Bounds range     [1e+00, 1e+00]\n",
      "  RHS range        [1e+01, 2e+01]\n",
      "Found heuristic solution: objective 15.0000000\n",
      "Presolve time: 0.00s\n",
      "Presolved: 63 rows, 60 columns, 180 nonzeros\n",
      "Variable types: 0 continuous, 60 integer (15 binary)\n",
      "\n",
      "Root relaxation: objective 7.333333e+00, 92 iterations, 0.00 seconds\n",
      "\n",
      "    Nodes    |    Current Node    |     Objective Bounds      |     Work\n",
      " Expl Unexpl |  Obj  Depth IntInf | Incumbent    BestBd   Gap | It/Node Time\n",
      "\n",
      "     0     0    7.33333    0   44   15.00000    7.33333  51.1%     -    0s\n",
      "     0     0    9.41838    0   37   15.00000    9.41838  37.2%     -    0s\n",
      "     0     0   11.50221    0   23   15.00000   11.50221  23.3%     -    0s\n",
      "     0     0   11.50221    0   29   15.00000   11.50221  23.3%     -    0s\n",
      "     0     0   11.50221    0   29   15.00000   11.50221  23.3%     -    0s\n",
      "     0     2   11.50221    0   28   15.00000   11.50221  23.3%     -    0s\n",
      "H  101    78                      14.0000000   14.00000  0.00%   4.8    0s\n",
      "\n",
      "Explored 119 nodes (853 simplex iterations) in 0.04 seconds\n",
      "Thread count was 12 (of 12 available processors)\n",
      "\n",
      "Solution count 2: 14 15 \n",
      "\n",
      "Optimal solution found (tolerance 1.00e-04)\n",
      "Best objective 1.400000000000e+01, best bound 1.400000000000e+01, gap 0.0000%\n",
      "Optimal solution\n",
      "Obj: 14\n"
     ]
    }
   ],
   "source": [
    "# Import Gurobi\n",
    "import gurobipy as gp\n",
    "from gurobipy import GRB\n",
    "import math\n",
    "\n",
    "# Create a new model\n",
    "m = gp.Model(\"Cutting Stock - Board Based\")\n",
    "\n",
    "# Sets\n",
    "num_lengths = len(L)\n",
    "J = range(num_lengths) # index for number types of cuts we can do\n",
    "\n",
    "num_boards_bound = int(sum([math.ceil(D[i]/d[i]) for i in range(num_lengths)])) # upper bound on the total number of boards that we need.\n",
    "\n",
    "\n",
    "\n",
    "I = range(num_boards_bound)\n",
    "\n",
    "# Create variables\n",
    "\n",
    "# If we use board i, then x_i = 1\n",
    "x = m.addVars(I, vtype=GRB.BINARY, name=\"x\") \n",
    "\n",
    "# If we cut board i into 2 lengths of 4 m and 1 lenghth of 5m, then \n",
    "# y[i,0] = 2, y[i,1] = 1.\n",
    "y = m.addVars(I,J, vtype = GRB.INTEGER, name = \"y\")\n",
    "\n",
    "# Set objective - total number of boards used\n",
    "m.setObjective(sum(x[i] for i in I ), GRB.MINIMIZE)\n",
    "\n",
    "# Demand constraints:\n",
    "m.addConstrs((sum(y[i,j] for i in I) >= D[j] for j in J)\n",
    "             , \"Demand\")\n",
    "\n",
    "#Feasible Board cuts\n",
    "m.addConstrs((sum(L[j]*y[i,j] for j in J) <= L_standard for i in I)\n",
    "             , \"Feasible cuts\")\n",
    "\n",
    "# Activate board if it is cut\n",
    "m.addConstrs((num_boards_bound*x[i] >= y[i,j] for i in I for j in J), \"Turn on x[i]\")\n",
    "\n",
    "# Optimize model\n",
    "m.optimize()\n",
    "\n",
    "print(\"Optimal solution\")\n",
    "#for v in m.getVars():\n",
    "    #print('%s: %g' % (v.varName, v.x))\n",
    "\n",
    "print('Obj: %g' % m.objVal)\n"
   ]
  },
  {
   "cell_type": "markdown",
   "metadata": {
    "button": false,
    "new_sheet": false,
    "run_control": {
     "read_only": false
    }
   },
   "source": [
    "# Pattern Based Formulation\n"
   ]
  },
  {
   "cell_type": "code",
   "execution_count": 30,
   "metadata": {
    "button": false,
    "new_sheet": false,
    "run_control": {
     "read_only": false
    }
   },
   "outputs": [
    {
     "name": "stdout",
     "output_type": "stream",
     "text": [
      "Gurobi Optimizer version 9.0.3 build v9.0.3rc0 (mac64)\n",
      "Optimize a model with 3 rows, 10 columns and 18 nonzeros\n",
      "Model fingerprint: 0x34ca604f\n",
      "Variable types: 0 continuous, 10 integer (0 binary)\n",
      "Coefficient statistics:\n",
      "  Matrix range     [1e+00, 4e+00]\n",
      "  Objective range  [1e+00, 1e+00]\n",
      "  Bounds range     [0e+00, 0e+00]\n",
      "  RHS range        [1e+01, 2e+01]\n",
      "Found heuristic solution: objective 27.0000000\n",
      "Presolve removed 0 rows and 1 columns\n",
      "Presolve time: 0.00s\n",
      "Presolved: 3 rows, 9 columns, 16 nonzeros\n",
      "Variable types: 0 continuous, 9 integer (0 binary)\n",
      "\n",
      "Root relaxation: objective 1.388889e+01, 4 iterations, 0.00 seconds\n",
      "\n",
      "    Nodes    |    Current Node    |     Objective Bounds      |     Work\n",
      " Expl Unexpl |  Obj  Depth IntInf | Incumbent    BestBd   Gap | It/Node Time\n",
      "\n",
      "     0     0   13.88889    0    2   27.00000   13.88889  48.6%     -    0s\n",
      "H    0     0                      14.0000000   13.88889  0.79%     -    0s\n",
      "     0     0   13.88889    0    2   14.00000   13.88889  0.79%     -    0s\n",
      "\n",
      "Explored 1 nodes (4 simplex iterations) in 0.01 seconds\n",
      "Thread count was 12 (of 12 available processors)\n",
      "\n",
      "Solution count 2: 14 27 \n",
      "\n",
      "Optimal solution found (tolerance 1.00e-04)\n",
      "Best objective 1.400000000000e+01, best bound 1.400000000000e+01, gap 0.0000%\n",
      "Optimal solution\n",
      "Obj: 14\n",
      "# of patterns of type [0, 0, 3] used is: 6\n",
      "# of patterns of type [0, 1, 2] used is: 0\n",
      "# of patterns of type [1, 0, 2] used is: 1\n",
      "# of patterns of type [0, 2, 1] used is: 0\n",
      "# of patterns of type [1, 2, 0] used is: 0\n",
      "# of patterns of type [2, 2, 0] used is: 0\n",
      "# of patterns of type [3, 1, 0] used is: 0\n",
      "# of patterns of type [4, 0, 0] used is: 0\n",
      "# of patterns of type [1, 3, 0] used is: 5\n",
      "# of patterns of type [3, 0, 1] used is: 2\n"
     ]
    }
   ],
   "source": [
    "# Import Gurobi\n",
    "import gurobipy as gp\n",
    "from gurobipy import GRB\n",
    "import math\n",
    "\n",
    "# Create a new model\n",
    "m = gp.Model(\"Cutting Stock - Board Based\")\n",
    "\n",
    "\n",
    "P = [[0,0,3],[0,1,2],[1,0,2],\n",
    "     [0,2,1],[1,2,0],[2,2,0],\n",
    "     [3,1,0],[4,0,0],[1,3,0],\n",
    "     [3,0,1]]\n",
    "\n",
    "num_patterns = len(P)\n",
    "\n",
    "# Sets\n",
    "\n",
    "\n",
    "\n",
    "I = range(num_patterns)\n",
    "\n",
    "# Create variables\n",
    "\n",
    "# If we use PATTERN i 10 times, then x_i = 10\n",
    "x = m.addVars(I, vtype=GRB.INTEGER, name=\"x\") \n",
    "\n",
    "\n",
    "# Set objective - total number of boards used\n",
    "m.setObjective(sum(x[i] for i in I ), GRB.MINIMIZE)\n",
    "\n",
    "# Demand constraints:\n",
    "m.addConstrs((sum(P[i][j]*x[i] for i in I) >= D[j] for j in J)\n",
    "             , \"Demand\")\n",
    "\n",
    "\n",
    "# Optimize model\n",
    "m.optimize()\n",
    "\n",
    "print(\"Optimal solution\")\n",
    "print('Obj: %g' % m.objVal)\n",
    "for i in I:\n",
    "    print(f\"# of patterns of type {P[i]} used is: {int(x[i].x)}\")\n",
    "\n",
    "\n"
   ]
  },
  {
   "cell_type": "code",
   "execution_count": null,
   "metadata": {},
   "outputs": [],
   "source": []
  }
 ],
 "metadata": {
  "kernelspec": {
   "display_name": "Python 3",
   "language": "python",
   "name": "python3"
  },
  "language_info": {
   "codemirror_mode": {
    "name": "ipython",
    "version": 3
   },
   "file_extension": ".py",
   "mimetype": "text/x-python",
   "name": "python",
   "nbconvert_exporter": "python",
   "pygments_lexer": "ipython3",
   "version": "3.8.3"
  }
 },
 "nbformat": 4,
 "nbformat_minor": 2
}
